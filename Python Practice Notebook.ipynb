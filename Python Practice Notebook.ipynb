{
 "cells": [
  {
   "cell_type": "markdown",
   "id": "79a92879",
   "metadata": {},
   "source": [
    "### Here is an easy Python program"
   ]
  },
  {
   "cell_type": "code",
   "execution_count": 7,
   "id": "19170070-0dc9-4436-b257-8d79ed1bb319",
   "metadata": {},
   "outputs": [
    {
     "name": "stdout",
     "output_type": "stream",
     "text": [
      "Hello World\n"
     ]
    }
   ],
   "source": [
    "print(\"Hello World\")"
   ]
  },
  {
   "cell_type": "markdown",
   "id": "249ea37a",
   "metadata": {},
   "source": [
    "Next will add **message** as a *variable*"
   ]
  },
  {
   "cell_type": "code",
   "execution_count": 8,
   "id": "cb6fe1c5",
   "metadata": {},
   "outputs": [
    {
     "name": "stdout",
     "output_type": "stream",
     "text": [
      "Hello World\n"
     ]
    }
   ],
   "source": [
    "message = \"Hello World\"\n",
    "print(message)"
   ]
  },
  {
   "cell_type": "markdown",
   "id": "fc88cb08",
   "metadata": {},
   "source": [
    "Each *variable* is connected to a *value*. A *value* is the information associated with a *variable*"
   ]
  },
  {
   "cell_type": "code",
   "execution_count": 9,
   "id": "e6d5a44b",
   "metadata": {},
   "outputs": [
    {
     "name": "stdout",
     "output_type": "stream",
     "text": [
      "Hello World\n",
      "Hello World, Again\n"
     ]
    }
   ],
   "source": [
    "message = \"Hello World\"\n",
    "print(message)\n",
    "\n",
    "message = \"Hello World, Again\"\n",
    "print(message)"
   ]
  },
  {
   "cell_type": "markdown",
   "id": "3a28c7b2",
   "metadata": {},
   "source": [
    "## Variables\n",
    "\n",
    "* think of variables as lables you can assign to values\n",
    "* contain only letters, numbers, and underscores (cannot begin with a number)\n",
    "* no spaces\n",
    "* avoid Python keywords\n",
    "* should be short but descriptive\n",
    "* be careful with lowercase l and upper case O, since these can be confused withe 1 and 0\n",
    "* stick with lowercase when possible (uppercase can have special meanings in variable names)\n",
    "\n",
    "### Error info\n",
    "\n",
    "* *name* error in a trackback will tell you the variable name is not right in some way\n",
    "* make sure to spell variable names consistently\n"
   ]
  },
  {
   "cell_type": "markdown",
   "id": "e709aca1",
   "metadata": {},
   "source": [
    "## Strings\n",
    "\n",
    "A string is a series of characters. Anything inside quotes is considered a string in Python. You can use single or double quotes. It doesn't matter. Fun."
   ]
  },
  {
   "cell_type": "code",
   "execution_count": 10,
   "id": "6cf6fdf2",
   "metadata": {},
   "outputs": [
    {
     "data": {
      "text/plain": [
       "\"One of Python's strengths.\""
      ]
     },
     "execution_count": 10,
     "metadata": {},
     "output_type": "execute_result"
    }
   ],
   "source": [
    "\"this is a string\"\n",
    "'this is also a string'\n",
    "\n",
    "# you can use quotes and apostrophes in strings\n",
    "\n",
    "'I told my friend, \"Python is my favorite language!\"'\n",
    "\"One of Python's strengths.\""
   ]
  },
  {
   "cell_type": "markdown",
   "id": "0d8f9a1c",
   "metadata": {},
   "source": [
    "Some fun with strings"
   ]
  },
  {
   "cell_type": "code",
   "execution_count": null,
   "id": "6f3a834d",
   "metadata": {},
   "outputs": [],
   "source": []
  }
 ],
 "metadata": {
  "kernelspec": {
   "display_name": "Python 3",
   "language": "python",
   "name": "python3"
  },
  "language_info": {
   "codemirror_mode": {
    "name": "ipython",
    "version": 3
   },
   "file_extension": ".py",
   "mimetype": "text/x-python",
   "name": "python",
   "nbconvert_exporter": "python",
   "pygments_lexer": "ipython3",
   "version": "3.9.2"
  }
 },
 "nbformat": 4,
 "nbformat_minor": 5
}
